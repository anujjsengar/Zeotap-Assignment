{
  "nbformat": 4,
  "nbformat_minor": 0,
  "metadata": {
    "colab": {
      "provenance": []
    },
    "kernelspec": {
      "name": "python3",
      "display_name": "Python 3"
    },
    "language_info": {
      "name": "python"
    }
  },
  "cells": [
    {
      "cell_type": "code",
      "execution_count": 9,
      "metadata": {
        "colab": {
          "base_uri": "https://localhost:8080/"
        },
        "id": "e0zanLle-j5Z",
        "outputId": "7c1fd6ca-afb9-4911-8d06-cd0c01f42d78"
      },
      "outputs": [
        {
          "output_type": "stream",
          "name": "stdout",
          "text": [
            "Requirement already satisfied: pandas in /usr/local/lib/python3.11/dist-packages (2.2.2)\n",
            "Requirement already satisfied: matplotlib in /usr/local/lib/python3.11/dist-packages (3.10.0)\n",
            "Requirement already satisfied: numpy>=1.23.2 in /usr/local/lib/python3.11/dist-packages (from pandas) (1.26.4)\n",
            "Requirement already satisfied: python-dateutil>=2.8.2 in /usr/local/lib/python3.11/dist-packages (from pandas) (2.8.2)\n",
            "Requirement already satisfied: pytz>=2020.1 in /usr/local/lib/python3.11/dist-packages (from pandas) (2024.2)\n",
            "Requirement already satisfied: tzdata>=2022.7 in /usr/local/lib/python3.11/dist-packages (from pandas) (2025.1)\n",
            "Requirement already satisfied: contourpy>=1.0.1 in /usr/local/lib/python3.11/dist-packages (from matplotlib) (1.3.1)\n",
            "Requirement already satisfied: cycler>=0.10 in /usr/local/lib/python3.11/dist-packages (from matplotlib) (0.12.1)\n",
            "Requirement already satisfied: fonttools>=4.22.0 in /usr/local/lib/python3.11/dist-packages (from matplotlib) (4.55.5)\n",
            "Requirement already satisfied: kiwisolver>=1.3.1 in /usr/local/lib/python3.11/dist-packages (from matplotlib) (1.4.8)\n",
            "Requirement already satisfied: packaging>=20.0 in /usr/local/lib/python3.11/dist-packages (from matplotlib) (24.2)\n",
            "Requirement already satisfied: pillow>=8 in /usr/local/lib/python3.11/dist-packages (from matplotlib) (11.1.0)\n",
            "Requirement already satisfied: pyparsing>=2.3.1 in /usr/local/lib/python3.11/dist-packages (from matplotlib) (3.2.1)\n",
            "Requirement already satisfied: six>=1.5 in /usr/local/lib/python3.11/dist-packages (from python-dateutil>=2.8.2->pandas) (1.17.0)\n"
          ]
        }
      ],
      "source": [
        "!pip install pandas matplotlib"
      ]
    },
    {
      "cell_type": "code",
      "source": [
        "import pandas as pd\n",
        "import matplotlib.pyplot as plt\n",
        "from fpdf import FPDF\n"
      ],
      "metadata": {
        "id": "m75A_fl6-oax"
      },
      "execution_count": 10,
      "outputs": []
    },
    {
      "cell_type": "code",
      "source": [
        "# Load dataframes\n",
        "products_df = pd.read_csv(\"Products.csv\")\n",
        "transactions_df = pd.read_csv(\"Transactions.csv\")\n",
        "customers_df = pd.read_csv(\"Customers.csv\")\n",
        "\n",
        "# Check the data\n",
        "print(products_df.head())\n",
        "print(transactions_df.head())\n",
        "print(customers_df.head())"
      ],
      "metadata": {
        "colab": {
          "base_uri": "https://localhost:8080/"
        },
        "id": "DB32G4E9-zBh",
        "outputId": "015bcceb-77c7-4193-eaba-b69545130963"
      },
      "execution_count": 11,
      "outputs": [
        {
          "output_type": "stream",
          "name": "stdout",
          "text": [
            "  ProductID              ProductName     Category   Price\n",
            "0      P001     ActiveWear Biography        Books  169.30\n",
            "1      P002    ActiveWear Smartwatch  Electronics  346.30\n",
            "2      P003  ComfortLiving Biography        Books   44.12\n",
            "3      P004            BookWorld Rug   Home Decor   95.69\n",
            "4      P005          TechPro T-Shirt     Clothing  429.31\n",
            "  TransactionID CustomerID ProductID      TransactionDate  Quantity  \\\n",
            "0        T00001      C0199      P067  2024-08-25 12:38:23         1   \n",
            "1        T00112      C0146      P067  2024-05-27 22:23:54         1   \n",
            "2        T00166      C0127      P067  2024-04-25 07:38:55         1   \n",
            "3        T00272      C0087      P067  2024-03-26 22:55:37         2   \n",
            "4        T00363      C0070      P067  2024-03-21 15:10:10         3   \n",
            "\n",
            "   TotalValue   Price  \n",
            "0      300.68  300.68  \n",
            "1      300.68  300.68  \n",
            "2      300.68  300.68  \n",
            "3      601.36  300.68  \n",
            "4      902.04  300.68  \n",
            "  CustomerID        CustomerName         Region  SignupDate\n",
            "0      C0001    Lawrence Carroll  South America  2022-07-10\n",
            "1      C0002      Elizabeth Lutz           Asia  2022-02-13\n",
            "2      C0003      Michael Rivera  South America  2024-03-07\n",
            "3      C0004  Kathleen Rodriguez  South America  2022-10-09\n",
            "4      C0005         Laura Weber           Asia  2022-08-15\n"
          ]
        }
      ]
    },
    {
      "cell_type": "code",
      "source": [
        "# Convert date columns to datetime\n",
        "transactions_df['TransactionDate'] = pd.to_datetime(transactions_df['TransactionDate'])\n",
        "customers_df['SignupDate'] = pd.to_datetime(customers_df['SignupDate'])\n",
        "\n",
        "# Merge datasets\n",
        "merged_df = transactions_df.merge(products_df, on='ProductID').merge(customers_df, on='CustomerID')\n",
        "print(\"Merged DataFrame:\")\n",
        "print(merged_df.head())"
      ],
      "metadata": {
        "colab": {
          "base_uri": "https://localhost:8080/"
        },
        "id": "QFp7jZpZ-5r4",
        "outputId": "e1263c27-9a84-402d-e5e0-e07bd5328881"
      },
      "execution_count": 12,
      "outputs": [
        {
          "output_type": "stream",
          "name": "stdout",
          "text": [
            "Merged DataFrame:\n",
            "  TransactionID CustomerID ProductID     TransactionDate  Quantity  \\\n",
            "0        T00001      C0199      P067 2024-08-25 12:38:23         1   \n",
            "1        T00112      C0146      P067 2024-05-27 22:23:54         1   \n",
            "2        T00166      C0127      P067 2024-04-25 07:38:55         1   \n",
            "3        T00272      C0087      P067 2024-03-26 22:55:37         2   \n",
            "4        T00363      C0070      P067 2024-03-21 15:10:10         3   \n",
            "\n",
            "   TotalValue  Price_x                      ProductName     Category  Price_y  \\\n",
            "0      300.68   300.68  ComfortLiving Bluetooth Speaker  Electronics   300.68   \n",
            "1      300.68   300.68  ComfortLiving Bluetooth Speaker  Electronics   300.68   \n",
            "2      300.68   300.68  ComfortLiving Bluetooth Speaker  Electronics   300.68   \n",
            "3      601.36   300.68  ComfortLiving Bluetooth Speaker  Electronics   300.68   \n",
            "4      902.04   300.68  ComfortLiving Bluetooth Speaker  Electronics   300.68   \n",
            "\n",
            "      CustomerName         Region SignupDate  \n",
            "0   Andrea Jenkins         Europe 2022-12-03  \n",
            "1  Brittany Harvey           Asia 2024-09-04  \n",
            "2  Kathryn Stevens         Europe 2024-04-04  \n",
            "3  Travis Campbell  South America 2024-04-11  \n",
            "4    Timothy Perez         Europe 2022-03-15  \n"
          ]
        }
      ]
    },
    {
      "cell_type": "code",
      "source": [
        "# 1. sales by category\n",
        "sales_by_category = merged_df.groupby('Category')['TotalValue'].sum().sort_values(ascending=False)\n",
        "\n",
        "# 2. regional performance\n",
        "sales_by_region = merged_df.groupby('Region')['TotalValue'].sum().sort_values(ascending=False)\n",
        "\n",
        "# 3. customer Loyalty\n",
        "repeat_purchases = merged_df.groupby('CustomerID')['TransactionID'].count().value_counts()\n",
        "\n",
        "# 4. Average order value by region\n",
        "avg_order_value_region = merged_df.groupby('Region')['TotalValue'].mean().sort_values(ascending=False)\n",
        "\n",
        "# 5. top-performing Products\n",
        "top_products = merged_df.groupby('ProductName')['TotalValue'].sum().sort_values(ascending=False).head(5)\n",
        "\n",
        "# display insights\n",
        "print(\"Sales by Category:\", sales_by_category)\n",
        "print(\"\\nRegional Performance:\", sales_by_region)\n",
        "print(\"\\nCustomer Loyalty:\", repeat_purchases)\n",
        "print(\"\\nAverage Order Value by Region:\", avg_order_value_region)\n",
        "print(\"\\nTop-Performing Products:\", top_products)\n"
      ],
      "metadata": {
        "colab": {
          "base_uri": "https://localhost:8080/"
        },
        "id": "KbJnsZiv-6E6",
        "outputId": "f4e8bc78-5f91-43e0-d939-a136d9e9ca9b"
      },
      "execution_count": 13,
      "outputs": [
        {
          "output_type": "stream",
          "name": "stdout",
          "text": [
            "Sales by Category: Category\n",
            "Books          192147.47\n",
            "Electronics    180783.50\n",
            "Clothing       166170.66\n",
            "Home Decor     150893.93\n",
            "Name: TotalValue, dtype: float64\n",
            "\n",
            "Regional Performance: Region\n",
            "South America    219352.56\n",
            "Europe           166254.63\n",
            "North America    152313.40\n",
            "Asia             152074.97\n",
            "Name: TotalValue, dtype: float64\n",
            "\n",
            "Customer Loyalty: TransactionID\n",
            "5     42\n",
            "4     31\n",
            "3     31\n",
            "6     25\n",
            "8     20\n",
            "7     18\n",
            "1     12\n",
            "2      9\n",
            "9      5\n",
            "10     4\n",
            "11     2\n",
            "Name: count, dtype: int64\n",
            "\n",
            "Average Order Value by Region: Region\n",
            "South America    721.554474\n",
            "Europe           710.489872\n",
            "Asia             697.591606\n",
            "North America    624.235246\n",
            "Name: TotalValue, dtype: float64\n",
            "\n",
            "Top-Performing Products: ProductName\n",
            "ActiveWear Smartwatch    39096.97\n",
            "SoundWave Headphones     25211.64\n",
            "SoundWave Novel          24507.90\n",
            "ActiveWear Jacket        22712.56\n",
            "ActiveWear Rug           22314.43\n",
            "Name: TotalValue, dtype: float64\n"
          ]
        }
      ]
    },
    {
      "cell_type": "code",
      "source": [
        "# visualization: transactions over Time\n",
        "transactions_over_time = merged_df['TransactionDate'].dt.to_period('M').value_counts().sort_index()\n",
        "\n",
        "# Plotting and save\n",
        "plt.figure(figsize=(10, 6))\n",
        "transactions_over_time.plot(kind='bar', color='skyblue')\n",
        "plt.title('Monthly Transactions Count')\n",
        "plt.xlabel('Month')\n",
        "plt.ylabel('Number of Transactions')\n",
        "plt.xticks(rotation=45)\n",
        "plt.tight_layout()\n",
        "plt.savefig('transactions_over_time.png')\n",
        "plt.show()\n"
      ],
      "metadata": {
        "colab": {
          "base_uri": "https://localhost:8080/",
          "height": 607
        },
        "id": "RQ8ektL3_KEM",
        "outputId": "4c7805fc-4270-465e-d4b9-0569446c7a45"
      },
      "execution_count": 16,
      "outputs": [
        {
          "output_type": "display_data",
          "data": {
            "text/plain": [
              "<Figure size 1000x600 with 1 Axes>"
            ],
            "image/png": "[encoded data removed]"
          },
          "metadata": {}
        }
      ]
    },
    {
      "cell_type": "code",
      "source": [],
      "metadata": {
        "id": "HIQWGK81_ZkX"
      },
      "execution_count": null,
      "outputs": []
    }
  ]
}